{
  "nbformat": 4,
  "nbformat_minor": 0,
  "metadata": {
    "colab": {
      "name": "clone compress data exploration.ipynb",
      "provenance": [],
      "authorship_tag": "ABX9TyM2LWqec85V0KDzEQyl3ys+",
      "include_colab_link": true
    },
    "kernelspec": {
      "name": "python3",
      "display_name": "Python 3"
    },
    "language_info": {
      "name": "python"
    }
  },
  "cells": [
    {
      "cell_type": "markdown",
      "metadata": {
        "id": "view-in-github",
        "colab_type": "text"
      },
      "source": [
        "<a href=\"https://colab.research.google.com/github/charliecurnin/clone-compress/blob/master/clone_compress_data_exploration.ipynb\" target=\"_parent\"><img src=\"https://colab.research.google.com/assets/colab-badge.svg\" alt=\"Open In Colab\"/></a>"
      ]
    },
    {
      "cell_type": "code",
      "source": [
        "from IPython.display import Audio\n",
        "import json\n",
        "import librosa\n",
        "import matplotlib.pyplot as plt\n",
        "import numpy as np\n",
        "import os\n",
        "import random\n",
        "from scipy.io import wavfile\n",
        "\n",
        "import nltk\n",
        "nltk.download('punkt')\n",
        "from nltk.tokenize import word_tokenize"
      ],
      "metadata": {
        "colab": {
          "base_uri": "https://localhost:8080/"
        },
        "id": "S3dFdj4Pua0P",
        "outputId": "e7a48d8d-e562-4e5b-ce3b-4fed1f92b4d5"
      },
      "execution_count": 49,
      "outputs": [
        {
          "output_type": "stream",
          "name": "stdout",
          "text": [
            "[nltk_data] Downloading package punkt to /root/nltk_data...\n",
            "[nltk_data]   Unzipping tokenizers/punkt.zip.\n"
          ]
        }
      ]
    },
    {
      "cell_type": "code",
      "execution_count": 3,
      "metadata": {
        "colab": {
          "base_uri": "https://localhost:8080/"
        },
        "id": "SI6LhjnTtjr1",
        "outputId": "b7f68e0d-a18f-4934-9399-ba22913016f6"
      },
      "outputs": [
        {
          "output_type": "stream",
          "name": "stdout",
          "text": [
            "Mounted at /content/gdrive\n"
          ]
        }
      ],
      "source": [
        "from google.colab import drive\n",
        "drive.mount('/content/gdrive')"
      ]
    },
    {
      "cell_type": "markdown",
      "source": [
        "### Explore dataset (some code adapted from HW3)"
      ],
      "metadata": {
        "id": "Ai1tc9LctxXJ"
      }
    },
    {
      "cell_type": "code",
      "source": [
        "HVB_PATH = '/content/gdrive/MyDrive/cs224s_spring2022/data/harpervalleybank'\n",
        "os.listdir(HVB_PATH)\n",
        "\n",
        "agent_audio_path = os.path.join(HVB_PATH, 'audio/agent')\n",
        "caller_audio_path = os.path.join(HVB_PATH, 'audio/caller')\n",
        "transcript_path = os.path.join(HVB_PATH, 'transcript')\n",
        "metadata_path = os.path.join(HVB_PATH, 'metadata')\n",
        "\n",
        "get_files = lambda dir : [os.path.join(dir, f) for f in os.listdir(dir)]"
      ],
      "metadata": {
        "id": "Sgyg26m2t5BO"
      },
      "execution_count": 17,
      "outputs": []
    },
    {
      "cell_type": "markdown",
      "source": [
        "Number of conversations"
      ],
      "metadata": {
        "id": "yqODlPDuu55S"
      }
    },
    {
      "cell_type": "code",
      "source": [
        "print(len(os.listdir(agent_audio_path)))"
      ],
      "metadata": {
        "colab": {
          "base_uri": "https://localhost:8080/"
        },
        "id": "k4587WykvB37",
        "outputId": "7d55237d-a909-47fc-f4e3-0f2b8cd22f25"
      },
      "execution_count": 7,
      "outputs": [
        {
          "output_type": "stream",
          "name": "stdout",
          "text": [
            "1446\n"
          ]
        }
      ]
    },
    {
      "cell_type": "markdown",
      "source": [
        "Total audio length"
      ],
      "metadata": {
        "id": "T7q7LLHTvGsS"
      }
    },
    {
      "cell_type": "code",
      "source": [
        "def get_duration(wav): \n",
        "  sr, data = wavfile.read(wav)\n",
        "  return len(data) / sr\n",
        "\n",
        "durations = [get_duration(f) for f in get_files(agent_audio_path)]\n",
        "total_duration = sum(durations)\n",
        "print(\"Total duration: \", total_duration)\n",
        "plt.hist(durations, bins='auto')\n",
        "plt.show()"
      ],
      "metadata": {
        "colab": {
          "base_uri": "https://localhost:8080/",
          "height": 285
        },
        "id": "EeGeqoO7vJTt",
        "outputId": "fee9c26b-a544-48c2-b5d6-4bda5b44e025"
      },
      "execution_count": 18,
      "outputs": [
        {
          "output_type": "stream",
          "name": "stdout",
          "text": [
            "Total duration:  84132.95000000008\n"
          ]
        },
        {
          "output_type": "display_data",
          "data": {
            "text/plain": [
              "<Figure size 432x288 with 1 Axes>"
            ],
            "image/png": "[encoded data removed]"
          },
          "metadata": {
            "needs_background": "light"
          }
        }
      ]
    },
    {
      "cell_type": "markdown",
      "source": [
        "What if we remove silence? (For cloning, need information about speaker speaking.)"
      ],
      "metadata": {
        "id": "nf8PcvliwD0_"
      }
    },
    {
      "cell_type": "code",
      "source": [
        "def remove_silence(wav):\n",
        "    speech_intervals = librosa.effects.split(wav)\n",
        "    wav = np.concatenate([\n",
        "      wav[start_i:end_i] for (start_i, end_i) in speech_intervals\n",
        "    ])\n",
        "    return wav\n",
        "  \n",
        "def get_duration_no_silence(wav):\n",
        "    data, sr = librosa.load(wav)\n",
        "    no_sil = remove_silence(data)\n",
        "    return len(no_sil) / sr\n",
        "\n",
        "\n",
        "agent_samples = random.sample(get_files(agent_audio_path), 50)    # sample so this isn't so slow\n",
        "durations = [get_duration_no_silence(f) for f in agent_samples]\n",
        "print(\"Avg duration without silence: \", sum(durations) / len(durations))\n",
        "plt.hist(durations, bins='auto')\n",
        "plt.show()"
      ],
      "metadata": {
        "colab": {
          "base_uri": "https://localhost:8080/",
          "height": 283
        },
        "id": "4swW9rsHwDSW",
        "outputId": "67c78093-50b0-41ab-961d-b7e4a2a15776"
      },
      "execution_count": 53,
      "outputs": [
        {
          "output_type": "stream",
          "name": "stdout",
          "text": [
            "Avg duration without silence:  35.662183219954656\n"
          ]
        },
        {
          "output_type": "display_data",
          "data": {
            "text/plain": [
              "<Figure size 432x288 with 1 Axes>"
            ],
            "image/png": "[encoded data removed]"
          },
          "metadata": {
            "needs_background": "light"
          }
        }
      ]
    },
    {
      "cell_type": "markdown",
      "source": [
        "How big should we expect our transcripts to be? How many words are spoken in each conversation?"
      ],
      "metadata": {
        "id": "Qm6JlYcsz816"
      }
    },
    {
      "cell_type": "code",
      "source": [
        "NOT_WORDS = [\"[\", \"]\", \"<\", \">\"]\n",
        "\n",
        "def get_n_words(transcript_f):\n",
        "  n_words = 0\n",
        "  for segment in json.load(open(transcript_f)):\n",
        "    segment_words = [w for w in word_tokenize(segment[\"human_transcript\"]) if w not in NOT_WORDS]\n",
        "    n_words += len(segment_words)\n",
        "  return n_words\n",
        "\n",
        "n_words = [get_n_words(f) for f in get_files(transcript_path)]\n",
        "print(\"Average n words: \", sum(n_words) / len(n_words))\n",
        "plt.hist(n_words, bins='auto')\n",
        "plt.show()"
      ],
      "metadata": {
        "colab": {
          "base_uri": "https://localhost:8080/",
          "height": 283
        },
        "id": "JINFlOOz0WMM",
        "outputId": "f0d2d909-2585-4871-f185-d1673e1e5090"
      },
      "execution_count": 51,
      "outputs": [
        {
          "output_type": "stream",
          "name": "stdout",
          "text": [
            "Average n words:  101.55809128630706\n"
          ]
        },
        {
          "output_type": "display_data",
          "data": {
            "text/plain": [
              "<Figure size 432x288 with 1 Axes>"
            ],
            "image/png": "[encoded data removed]"
          },
          "metadata": {
            "needs_background": "light"
          }
        }
      ]
    }
  ]
}